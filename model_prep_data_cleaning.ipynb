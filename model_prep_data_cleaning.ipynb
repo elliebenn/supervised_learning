{
  "nbformat": 4,
  "nbformat_minor": 0,
  "metadata": {
    "colab": {
      "name": "model_prep_data_cleaning.ipynb",
      "provenance": []
    },
    "kernelspec": {
      "name": "python3",
      "display_name": "Python 3"
    }
  },
  "cells": [
    {
      "cell_type": "markdown",
      "metadata": {
        "id": "SzGz28JVA-GT"
      },
      "source": [
        "### __Examining variable types in Pandas__"
      ]
    },
    {
      "cell_type": "code",
      "metadata": {
        "id": "1KEKcvq2A9Ez"
      },
      "source": [
        "# import pandas\n",
        "import pandas as pd\n",
        "import numpy as np\n",
        "from sqlalchemy import create_engine\n",
        "import warnings\n",
        "\n",
        "warnings.filterwarnings('ignore')"
      ],
      "execution_count": 7,
      "outputs": []
    },
    {
      "cell_type": "code",
      "metadata": {
        "id": "kcnghxv7BJH1"
      },
      "source": [
        "postgres_user = 'dsbc_student'\n",
        "postgres_pw = '7*.8G9QH21'\n",
        "postgres_host = '142.93.121.174'\n",
        "postgres_port = '5432'\n",
        "postgres_db = 'youtube'\n",
        "\n",
        "engine = create_engine('postgresql://{}:{}@{}:{}/{}'.format(\n",
        "    postgres_user, postgres_pw, postgres_host, postgres_port, postgres_db))\n",
        "\n",
        "youtube_df = pd.read_sql_query('select * from youtube',con=engine)\n",
        "\n",
        "# no need for an open connection, \n",
        "# as we're only doing a single query\n",
        "engine.dispose()"
      ],
      "execution_count": 8,
      "outputs": []
    },
    {
      "cell_type": "markdown",
      "metadata": {
        "id": "ccQOg7GHBZ2c"
      },
      "source": [
        "To get a high level understanding of the dataframe, we use .info() function, which will return the number of rows in data frame as well as data type of each column"
      ]
    },
    {
      "cell_type": "code",
      "metadata": {
        "id": "MZ7rxve-BjPx",
        "outputId": "229a1219-e1bd-40c2-e307-f563d14bb9ae",
        "colab": {
          "base_uri": "https://localhost:8080/",
          "height": 238
        }
      },
      "source": [
        "youtube_df.info()"
      ],
      "execution_count": 9,
      "outputs": [
        {
          "output_type": "stream",
          "text": [
            "<class 'pandas.core.frame.DataFrame'>\n",
            "RangeIndex: 5000 entries, 0 to 4999\n",
            "Data columns (total 6 columns):\n",
            " #   Column         Non-Null Count  Dtype \n",
            "---  ------         --------------  ----- \n",
            " 0   Rank           5000 non-null   object\n",
            " 1   Grade          5000 non-null   object\n",
            " 2   Channel name   5000 non-null   object\n",
            " 3   Video Uploads  5000 non-null   object\n",
            " 4   Subscribers    5000 non-null   object\n",
            " 5   Video views    5000 non-null   int64 \n",
            "dtypes: int64(1), object(5)\n",
            "memory usage: 234.5+ KB\n"
          ],
          "name": "stdout"
        }
      ]
    },
    {
      "cell_type": "markdown",
      "metadata": {
        "id": "8wR3nfVtBmcm"
      },
      "source": [
        "Dataset contains 5000 observations and 6 column. Only *Video views* is an integer. The rest are 'object' type, meaning they are strings. \n",
        "\n",
        "To view the first few rows of the data frame, we use .head( ) function"
      ]
    },
    {
      "cell_type": "code",
      "metadata": {
        "id": "h9OsDOPWB5V_",
        "outputId": "2f7bab17-779b-4aeb-8727-576d1d2a29fa",
        "colab": {
          "base_uri": "https://localhost:8080/",
          "height": 204
        }
      },
      "source": [
        "# print first rows of the data frame\n",
        "youtube_df.head()"
      ],
      "execution_count": 10,
      "outputs": [
        {
          "output_type": "execute_result",
          "data": {
            "text/html": [
              "<div>\n",
              "<style scoped>\n",
              "    .dataframe tbody tr th:only-of-type {\n",
              "        vertical-align: middle;\n",
              "    }\n",
              "\n",
              "    .dataframe tbody tr th {\n",
              "        vertical-align: top;\n",
              "    }\n",
              "\n",
              "    .dataframe thead th {\n",
              "        text-align: right;\n",
              "    }\n",
              "</style>\n",
              "<table border=\"1\" class=\"dataframe\">\n",
              "  <thead>\n",
              "    <tr style=\"text-align: right;\">\n",
              "      <th></th>\n",
              "      <th>Rank</th>\n",
              "      <th>Grade</th>\n",
              "      <th>Channel name</th>\n",
              "      <th>Video Uploads</th>\n",
              "      <th>Subscribers</th>\n",
              "      <th>Video views</th>\n",
              "    </tr>\n",
              "  </thead>\n",
              "  <tbody>\n",
              "    <tr>\n",
              "      <th>0</th>\n",
              "      <td>1st</td>\n",
              "      <td>A++</td>\n",
              "      <td>Zee TV</td>\n",
              "      <td>82757</td>\n",
              "      <td>18752951</td>\n",
              "      <td>20869786591</td>\n",
              "    </tr>\n",
              "    <tr>\n",
              "      <th>1</th>\n",
              "      <td>2nd</td>\n",
              "      <td>A++</td>\n",
              "      <td>T-Series</td>\n",
              "      <td>12661</td>\n",
              "      <td>61196302</td>\n",
              "      <td>47548839843</td>\n",
              "    </tr>\n",
              "    <tr>\n",
              "      <th>2</th>\n",
              "      <td>3rd</td>\n",
              "      <td>A++</td>\n",
              "      <td>Cocomelon - Nursery Rhymes</td>\n",
              "      <td>373</td>\n",
              "      <td>19238251</td>\n",
              "      <td>9793305082</td>\n",
              "    </tr>\n",
              "    <tr>\n",
              "      <th>3</th>\n",
              "      <td>4th</td>\n",
              "      <td>A++</td>\n",
              "      <td>SET India</td>\n",
              "      <td>27323</td>\n",
              "      <td>31180559</td>\n",
              "      <td>22675948293</td>\n",
              "    </tr>\n",
              "    <tr>\n",
              "      <th>4</th>\n",
              "      <td>5th</td>\n",
              "      <td>A++</td>\n",
              "      <td>WWE</td>\n",
              "      <td>36756</td>\n",
              "      <td>32852346</td>\n",
              "      <td>26273668433</td>\n",
              "    </tr>\n",
              "  </tbody>\n",
              "</table>\n",
              "</div>"
            ],
            "text/plain": [
              "  Rank Grade                Channel name Video Uploads Subscribers  Video views\n",
              "0  1st  A++                       Zee TV         82757    18752951  20869786591\n",
              "1  2nd  A++                     T-Series         12661    61196302  47548839843\n",
              "2  3rd  A++   Cocomelon - Nursery Rhymes           373    19238251   9793305082\n",
              "3  4th  A++                    SET India         27323    31180559  22675948293\n",
              "4  5th  A++                          WWE         36756    32852346  26273668433"
            ]
          },
          "metadata": {
            "tags": []
          },
          "execution_count": 10
        }
      ]
    },
    {
      "cell_type": "markdown",
      "metadata": {
        "id": "BAAlO9DCCHsH"
      },
      "source": [
        "It appears *Video Uploads* and *Subscribers* are both integers as well but appear as objects. \n",
        "\n",
        "Let's take a closer to look to investigate as to why this is the case."
      ]
    },
    {
      "cell_type": "code",
      "metadata": {
        "id": "QdkwKJXPCfuB",
        "outputId": "de461c62-12ef-4d9b-bf8d-dfdfa672780e",
        "colab": {
          "base_uri": "https://localhost:8080/",
          "height": 419
        }
      },
      "source": [
        "youtube_df[(youtube_df[\"Video Uploads\"].str.strip() == \"--\") | (youtube_df[\"Subscribers\"].str.strip() == \"--\")]"
      ],
      "execution_count": 11,
      "outputs": [
        {
          "output_type": "execute_result",
          "data": {
            "text/html": [
              "<div>\n",
              "<style scoped>\n",
              "    .dataframe tbody tr th:only-of-type {\n",
              "        vertical-align: middle;\n",
              "    }\n",
              "\n",
              "    .dataframe tbody tr th {\n",
              "        vertical-align: top;\n",
              "    }\n",
              "\n",
              "    .dataframe thead th {\n",
              "        text-align: right;\n",
              "    }\n",
              "</style>\n",
              "<table border=\"1\" class=\"dataframe\">\n",
              "  <thead>\n",
              "    <tr style=\"text-align: right;\">\n",
              "      <th></th>\n",
              "      <th>Rank</th>\n",
              "      <th>Grade</th>\n",
              "      <th>Channel name</th>\n",
              "      <th>Video Uploads</th>\n",
              "      <th>Subscribers</th>\n",
              "      <th>Video views</th>\n",
              "    </tr>\n",
              "  </thead>\n",
              "  <tbody>\n",
              "    <tr>\n",
              "      <th>17</th>\n",
              "      <td>18th</td>\n",
              "      <td>A+</td>\n",
              "      <td>Vlad and Nikita</td>\n",
              "      <td>53</td>\n",
              "      <td>--</td>\n",
              "      <td>1428274554</td>\n",
              "    </tr>\n",
              "    <tr>\n",
              "      <th>108</th>\n",
              "      <td>109th</td>\n",
              "      <td>A</td>\n",
              "      <td>BIGFUN</td>\n",
              "      <td>373</td>\n",
              "      <td>--</td>\n",
              "      <td>941376171</td>\n",
              "    </tr>\n",
              "    <tr>\n",
              "      <th>115</th>\n",
              "      <td>116th</td>\n",
              "      <td>A</td>\n",
              "      <td>Bee Kids Games - Children TV</td>\n",
              "      <td>740</td>\n",
              "      <td>--</td>\n",
              "      <td>414535723</td>\n",
              "    </tr>\n",
              "    <tr>\n",
              "      <th>142</th>\n",
              "      <td>143rd</td>\n",
              "      <td>A</td>\n",
              "      <td>ChiChi TV Siêu Nhân</td>\n",
              "      <td>421</td>\n",
              "      <td>--</td>\n",
              "      <td>2600394871</td>\n",
              "    </tr>\n",
              "    <tr>\n",
              "      <th>143</th>\n",
              "      <td>144th</td>\n",
              "      <td>A</td>\n",
              "      <td>MusicTalentNow</td>\n",
              "      <td>1487</td>\n",
              "      <td>--</td>\n",
              "      <td>3252752212</td>\n",
              "    </tr>\n",
              "    <tr>\n",
              "      <th>...</th>\n",
              "      <td>...</td>\n",
              "      <td>...</td>\n",
              "      <td>...</td>\n",
              "      <td>...</td>\n",
              "      <td>...</td>\n",
              "      <td>...</td>\n",
              "    </tr>\n",
              "    <tr>\n",
              "      <th>4941</th>\n",
              "      <td>4,942nd</td>\n",
              "      <td>B+</td>\n",
              "      <td>GMTV</td>\n",
              "      <td>183</td>\n",
              "      <td>--</td>\n",
              "      <td>127080542</td>\n",
              "    </tr>\n",
              "    <tr>\n",
              "      <th>4948</th>\n",
              "      <td>4,949th</td>\n",
              "      <td>B+</td>\n",
              "      <td>Keivon ToysReview</td>\n",
              "      <td>468</td>\n",
              "      <td>--</td>\n",
              "      <td>481568513</td>\n",
              "    </tr>\n",
              "    <tr>\n",
              "      <th>4956</th>\n",
              "      <td>4,957th</td>\n",
              "      <td>B+</td>\n",
              "      <td>CLICKNEWS</td>\n",
              "      <td>2661</td>\n",
              "      <td>--</td>\n",
              "      <td>139940815</td>\n",
              "    </tr>\n",
              "    <tr>\n",
              "      <th>4961</th>\n",
              "      <td>4,962nd</td>\n",
              "      <td>B+</td>\n",
              "      <td>ONE Championship</td>\n",
              "      <td>905</td>\n",
              "      <td>--</td>\n",
              "      <td>109836654</td>\n",
              "    </tr>\n",
              "    <tr>\n",
              "      <th>4990</th>\n",
              "      <td>4,991st</td>\n",
              "      <td>B+</td>\n",
              "      <td>Ho Ngoc Ha's Official Channel</td>\n",
              "      <td>208</td>\n",
              "      <td>--</td>\n",
              "      <td>127185704</td>\n",
              "    </tr>\n",
              "  </tbody>\n",
              "</table>\n",
              "<p>390 rows × 6 columns</p>\n",
              "</div>"
            ],
            "text/plain": [
              "         Rank Grade  ... Subscribers Video views\n",
              "17       18th   A+   ...         --   1428274554\n",
              "108     109th    A   ...         --    941376171\n",
              "115     116th    A   ...         --    414535723\n",
              "142     143rd    A   ...         --   2600394871\n",
              "143     144th    A   ...         --   3252752212\n",
              "...       ...   ...  ...         ...         ...\n",
              "4941  4,942nd   B+   ...         --    127080542\n",
              "4948  4,949th   B+   ...         --    481568513\n",
              "4956  4,957th   B+   ...         --    139940815\n",
              "4961  4,962nd   B+   ...         --    109836654\n",
              "4990  4,991st   B+   ...         --    127185704\n",
              "\n",
              "[390 rows x 6 columns]"
            ]
          },
          "metadata": {
            "tags": []
          },
          "execution_count": 11
        }
      ]
    },
    {
      "cell_type": "markdown",
      "metadata": {
        "id": "sZ3voCDZDXsQ"
      },
      "source": [
        "We can see that 390 rows in our dataset contain -- value for either Video Uploads or Subscribers column. "
      ]
    },
    {
      "cell_type": "code",
      "metadata": {
        "id": "P6NjDXvKDWip",
        "outputId": "a88c7d1f-e081-4f39-f906-3a36bd66fcb4",
        "colab": {
          "base_uri": "https://localhost:8080/",
          "height": 136
        }
      },
      "source": [
        "# returns the number of unique values for each column\n",
        "youtube_df.nunique()"
      ],
      "execution_count": 12,
      "outputs": [
        {
          "output_type": "execute_result",
          "data": {
            "text/plain": [
              "Rank             5000\n",
              "Grade               6\n",
              "Channel name     4993\n",
              "Video Uploads    2286\n",
              "Subscribers      4612\n",
              "Video views      5000\n",
              "dtype: int64"
            ]
          },
          "metadata": {
            "tags": []
          },
          "execution_count": 12
        }
      ]
    },
    {
      "cell_type": "markdown",
      "metadata": {
        "id": "OsZWpfJKDnX1"
      },
      "source": [
        "*Grade* has 6 categories, so it is safe to classify it as a categorical variable. \n",
        "\n",
        "*Channel name* has nearly 5000 unique values. Is it categorical? We can think of each Channel name as a unique category. The number of possibilities this value can take is limited to the number of Youtube channels, so it's a categorical variable. \n",
        "\n",
        "*Rank* can be ordinal categorical variable or interval continuous variable"
      ]
    },
    {
      "cell_type": "markdown",
      "metadata": {
        "id": "qILeQ9VOEKDc"
      },
      "source": [
        "### __Changing variable types__"
      ]
    },
    {
      "cell_type": "markdown",
      "metadata": {
        "id": "5Z0_CgUvEUHG"
      },
      "source": [
        "We'll sometimes want to work with categorical instead of continuous variable. We can transform a continuous variable into an ordinal, categorical variable. "
      ]
    },
    {
      "cell_type": "code",
      "metadata": {
        "id": "4CJoKKRQETdE",
        "outputId": "29ad6671-33b5-4924-ab71-2a994d7b7110",
        "colab": {
          "base_uri": "https://localhost:8080/",
          "height": 102
        }
      },
      "source": [
        "# Create a new feature in our DataFrame, views_group:\n",
        "\n",
        "# this method returns group members\n",
        "# given video views\n",
        "def categorize_video_views(views_num):\n",
        "  if views_num >= 1000000000:\n",
        "    return 1\n",
        "  elif views_num >= 100000000:\n",
        "    return 2\n",
        "  else:\n",
        "    return 3\n",
        "\n",
        "# use Pandas' .apply() method by calling function above\n",
        "youtube_df['views_group'] = youtube_df['Video views'].apply(categorize_video_views)\n",
        "\n",
        "# let's see how many observations we have in each group\n",
        "print(youtube_df.groupby('views_group')[\"Video views\"].count())"
      ],
      "execution_count": 13,
      "outputs": [
        {
          "output_type": "stream",
          "text": [
            "views_group\n",
            "1    1399\n",
            "2    2846\n",
            "3     755\n",
            "Name: Video views, dtype: int64\n"
          ],
          "name": "stdout"
        }
      ]
    }
  ]
}