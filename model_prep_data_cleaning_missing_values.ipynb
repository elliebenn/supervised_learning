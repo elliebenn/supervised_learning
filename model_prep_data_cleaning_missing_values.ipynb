{
  "nbformat": 4,
  "nbformat_minor": 0,
  "metadata": {
    "colab": {
      "name": "model_prep_data_cleaning_missing_values.ipynb",
      "provenance": []
    },
    "kernelspec": {
      "name": "python3",
      "display_name": "Python 3"
    }
  },
  "cells": [
    {
      "cell_type": "markdown",
      "metadata": {
        "id": "OSnjf5RYLcto"
      },
      "source": [
        "### __Data Cleaning__"
      ]
    },
    {
      "cell_type": "markdown",
      "metadata": {
        "id": "ppwQ01hMKxEX"
      },
      "source": [
        "Data can be collected from a variety of sources and in a wide range of formats. Examples include:\n",
        "*  Scraping raw data from public databases online\n",
        "* collecting log/usage info from customers of website\n",
        "* downloading social media user patterns and behavior\n",
        "* gathering sensory data from embedded devices and sensors\n",
        "\n",
        "> It is our job as data scientit to transform the data that can come in all shapes and sizes into something reliable, clean, and useful for gaining insights and taking action. \n",
        "\n",
        "**\"data scientists spend 50% to 80% of their time cleaning and manipulating data, and the rest building and furnishing models.\" "
      ]
    },
    {
      "cell_type": "markdown",
      "metadata": {
        "id": "3K9-Dnl8LfXs"
      },
      "source": [
        "**Data Cleaning** is the process of detecting problems in data, and utilizing a series of techniques to deal with them. \n",
        "\n",
        "This is an important skillset to have as not all data that we will work with will be \"nice\" data that is easy to plug in to a model. \n",
        "\n",
        ">__Potential Problems__\n",
        "* duplicate entries\n",
        "* irrelevant data for task at hand\n",
        "* structural problems, ints stored as text, consisistently formatted dates\n",
        "* missing values - reduces # of data points we can work with, meaning we lose valuable information\n",
        "\n",
        "In this checkpoint, we learned how to detect problems with data and a few techniques for dealing with missing values"
      ]
    },
    {
      "cell_type": "markdown",
      "metadata": {
        "id": "tM_2QbBVWUEW"
      },
      "source": [
        "### __Youtube Dataset__"
      ]
    },
    {
      "cell_type": "code",
      "metadata": {
        "id": "Stwmw_HjKmOi"
      },
      "source": [
        "import pandas as pd\n",
        "import numpy as np\n",
        "from sqlalchemy import create_engine\n",
        "import warnings\n",
        "\n",
        "warnings.filterwarnings('ignore')"
      ],
      "execution_count": 12,
      "outputs": []
    },
    {
      "cell_type": "code",
      "metadata": {
        "id": "XXU7qHi_Z3f7"
      },
      "source": [
        "postgres_user = 'dsbc_student'\n",
        "postgres_pw = '7*.8G9QH21'\n",
        "postgres_host = '142.93.121.174'\n",
        "postgres_port = '5432'\n",
        "postgres_db = 'youtube'\n",
        "\n",
        "engine = create_engine('postgresql://{}:{}@{}:{}/{}'.format(\n",
        "    postgres_user, postgres_pw, postgres_host, postgres_port, postgres_db))\n",
        "\n",
        "youtube_df = pd.read_sql_query('select * from youtube',con=engine)\n",
        "\n",
        "# no need for an open connection, \n",
        "# as we're only doing a single query\n",
        "engine.dispose()"
      ],
      "execution_count": 13,
      "outputs": []
    },
    {
      "cell_type": "markdown",
      "metadata": {
        "id": "bx-e0_FkaBLS"
      },
      "source": [
        "__Getting to know our data__"
      ]
    },
    {
      "cell_type": "code",
      "metadata": {
        "id": "RAk-UWS1aCfR",
        "outputId": "a8fc88b1-8c1d-4205-c4c8-c0d6ad76f5ce",
        "colab": {
          "base_uri": "https://localhost:8080/",
          "height": 254
        }
      },
      "source": [
        "youtube_df.info()"
      ],
      "execution_count": 14,
      "outputs": [
        {
          "output_type": "stream",
          "text": [
            "<class 'pandas.core.frame.DataFrame'>\n",
            "RangeIndex: 5000 entries, 0 to 4999\n",
            "Data columns (total 6 columns):\n",
            " #   Column         Non-Null Count  Dtype \n",
            "---  ------         --------------  ----- \n",
            " 0   Rank           5000 non-null   object\n",
            " 1   Grade          5000 non-null   object\n",
            " 2   Channel name   5000 non-null   object\n",
            " 3   Video Uploads  5000 non-null   object\n",
            " 4   Subscribers    5000 non-null   object\n",
            " 5   Video views    5000 non-null   int64 \n",
            "dtypes: int64(1), object(5)\n",
            "memory usage: 234.5+ KB\n"
          ],
          "name": "stdout"
        }
      ]
    },
    {
      "cell_type": "markdown",
      "metadata": {
        "id": "ffvT7ybMaGNx"
      },
      "source": [
        "We have 5000 observations and 6 columns. Video views is the only integer column and the rest appear to be text. However, this is not the case. "
      ]
    },
    {
      "cell_type": "code",
      "metadata": {
        "id": "x9OH6DL_aOuh",
        "outputId": "3b51703f-08bc-4a14-c734-42d2e42061bd",
        "colab": {
          "base_uri": "https://localhost:8080/",
          "height": 198
        }
      },
      "source": [
        "youtube_df.head()"
      ],
      "execution_count": 4,
      "outputs": [
        {
          "output_type": "execute_result",
          "data": {
            "text/html": [
              "<div>\n",
              "<style scoped>\n",
              "    .dataframe tbody tr th:only-of-type {\n",
              "        vertical-align: middle;\n",
              "    }\n",
              "\n",
              "    .dataframe tbody tr th {\n",
              "        vertical-align: top;\n",
              "    }\n",
              "\n",
              "    .dataframe thead th {\n",
              "        text-align: right;\n",
              "    }\n",
              "</style>\n",
              "<table border=\"1\" class=\"dataframe\">\n",
              "  <thead>\n",
              "    <tr style=\"text-align: right;\">\n",
              "      <th></th>\n",
              "      <th>Rank</th>\n",
              "      <th>Grade</th>\n",
              "      <th>Channel name</th>\n",
              "      <th>Video Uploads</th>\n",
              "      <th>Subscribers</th>\n",
              "      <th>Video views</th>\n",
              "    </tr>\n",
              "  </thead>\n",
              "  <tbody>\n",
              "    <tr>\n",
              "      <th>0</th>\n",
              "      <td>1st</td>\n",
              "      <td>A++</td>\n",
              "      <td>Zee TV</td>\n",
              "      <td>82757</td>\n",
              "      <td>18752951</td>\n",
              "      <td>20869786591</td>\n",
              "    </tr>\n",
              "    <tr>\n",
              "      <th>1</th>\n",
              "      <td>2nd</td>\n",
              "      <td>A++</td>\n",
              "      <td>T-Series</td>\n",
              "      <td>12661</td>\n",
              "      <td>61196302</td>\n",
              "      <td>47548839843</td>\n",
              "    </tr>\n",
              "    <tr>\n",
              "      <th>2</th>\n",
              "      <td>3rd</td>\n",
              "      <td>A++</td>\n",
              "      <td>Cocomelon - Nursery Rhymes</td>\n",
              "      <td>373</td>\n",
              "      <td>19238251</td>\n",
              "      <td>9793305082</td>\n",
              "    </tr>\n",
              "    <tr>\n",
              "      <th>3</th>\n",
              "      <td>4th</td>\n",
              "      <td>A++</td>\n",
              "      <td>SET India</td>\n",
              "      <td>27323</td>\n",
              "      <td>31180559</td>\n",
              "      <td>22675948293</td>\n",
              "    </tr>\n",
              "    <tr>\n",
              "      <th>4</th>\n",
              "      <td>5th</td>\n",
              "      <td>A++</td>\n",
              "      <td>WWE</td>\n",
              "      <td>36756</td>\n",
              "      <td>32852346</td>\n",
              "      <td>26273668433</td>\n",
              "    </tr>\n",
              "  </tbody>\n",
              "</table>\n",
              "</div>"
            ],
            "text/plain": [
              "  Rank Grade                Channel name Video Uploads Subscribers  Video views\n",
              "0  1st  A++                       Zee TV         82757    18752951  20869786591\n",
              "1  2nd  A++                     T-Series         12661    61196302  47548839843\n",
              "2  3rd  A++   Cocomelon - Nursery Rhymes           373    19238251   9793305082\n",
              "3  4th  A++                    SET India         27323    31180559  22675948293\n",
              "4  5th  A++                          WWE         36756    32852346  26273668433"
            ]
          },
          "metadata": {
            "tags": []
          },
          "execution_count": 4
        }
      ]
    },
    {
      "cell_type": "markdown",
      "metadata": {
        "id": "03k4vtHxaQvJ"
      },
      "source": [
        "We can see that Video Uploads and Subscribers are also numeric. "
      ]
    },
    {
      "cell_type": "markdown",
      "metadata": {
        "id": "Y43vj0YHaadp"
      },
      "source": [
        "__Detecting missing values__\n",
        "\n",
        ".isnull() function returns true if an element has no value and returnse False or None for each element in DataFrme"
      ]
    },
    {
      "cell_type": "code",
      "metadata": {
        "id": "qRQbH2UPaeSw",
        "outputId": "6cc45d19-d6b9-4e2d-b823-d23c6acd0493",
        "colab": {
          "base_uri": "https://localhost:8080/",
          "height": 407
        }
      },
      "source": [
        "youtube_df.isnull()"
      ],
      "execution_count": 7,
      "outputs": [
        {
          "output_type": "execute_result",
          "data": {
            "text/html": [
              "<div>\n",
              "<style scoped>\n",
              "    .dataframe tbody tr th:only-of-type {\n",
              "        vertical-align: middle;\n",
              "    }\n",
              "\n",
              "    .dataframe tbody tr th {\n",
              "        vertical-align: top;\n",
              "    }\n",
              "\n",
              "    .dataframe thead th {\n",
              "        text-align: right;\n",
              "    }\n",
              "</style>\n",
              "<table border=\"1\" class=\"dataframe\">\n",
              "  <thead>\n",
              "    <tr style=\"text-align: right;\">\n",
              "      <th></th>\n",
              "      <th>Rank</th>\n",
              "      <th>Grade</th>\n",
              "      <th>Channel name</th>\n",
              "      <th>Video Uploads</th>\n",
              "      <th>Subscribers</th>\n",
              "      <th>Video views</th>\n",
              "    </tr>\n",
              "  </thead>\n",
              "  <tbody>\n",
              "    <tr>\n",
              "      <th>0</th>\n",
              "      <td>False</td>\n",
              "      <td>False</td>\n",
              "      <td>False</td>\n",
              "      <td>False</td>\n",
              "      <td>False</td>\n",
              "      <td>False</td>\n",
              "    </tr>\n",
              "    <tr>\n",
              "      <th>1</th>\n",
              "      <td>False</td>\n",
              "      <td>False</td>\n",
              "      <td>False</td>\n",
              "      <td>False</td>\n",
              "      <td>False</td>\n",
              "      <td>False</td>\n",
              "    </tr>\n",
              "    <tr>\n",
              "      <th>2</th>\n",
              "      <td>False</td>\n",
              "      <td>False</td>\n",
              "      <td>False</td>\n",
              "      <td>False</td>\n",
              "      <td>False</td>\n",
              "      <td>False</td>\n",
              "    </tr>\n",
              "    <tr>\n",
              "      <th>3</th>\n",
              "      <td>False</td>\n",
              "      <td>False</td>\n",
              "      <td>False</td>\n",
              "      <td>False</td>\n",
              "      <td>False</td>\n",
              "      <td>False</td>\n",
              "    </tr>\n",
              "    <tr>\n",
              "      <th>4</th>\n",
              "      <td>False</td>\n",
              "      <td>False</td>\n",
              "      <td>False</td>\n",
              "      <td>False</td>\n",
              "      <td>False</td>\n",
              "      <td>False</td>\n",
              "    </tr>\n",
              "    <tr>\n",
              "      <th>...</th>\n",
              "      <td>...</td>\n",
              "      <td>...</td>\n",
              "      <td>...</td>\n",
              "      <td>...</td>\n",
              "      <td>...</td>\n",
              "      <td>...</td>\n",
              "    </tr>\n",
              "    <tr>\n",
              "      <th>4995</th>\n",
              "      <td>False</td>\n",
              "      <td>False</td>\n",
              "      <td>False</td>\n",
              "      <td>False</td>\n",
              "      <td>False</td>\n",
              "      <td>False</td>\n",
              "    </tr>\n",
              "    <tr>\n",
              "      <th>4996</th>\n",
              "      <td>False</td>\n",
              "      <td>False</td>\n",
              "      <td>False</td>\n",
              "      <td>False</td>\n",
              "      <td>False</td>\n",
              "      <td>False</td>\n",
              "    </tr>\n",
              "    <tr>\n",
              "      <th>4997</th>\n",
              "      <td>False</td>\n",
              "      <td>False</td>\n",
              "      <td>False</td>\n",
              "      <td>False</td>\n",
              "      <td>False</td>\n",
              "      <td>False</td>\n",
              "    </tr>\n",
              "    <tr>\n",
              "      <th>4998</th>\n",
              "      <td>False</td>\n",
              "      <td>False</td>\n",
              "      <td>False</td>\n",
              "      <td>False</td>\n",
              "      <td>False</td>\n",
              "      <td>False</td>\n",
              "    </tr>\n",
              "    <tr>\n",
              "      <th>4999</th>\n",
              "      <td>False</td>\n",
              "      <td>False</td>\n",
              "      <td>False</td>\n",
              "      <td>False</td>\n",
              "      <td>False</td>\n",
              "      <td>False</td>\n",
              "    </tr>\n",
              "  </tbody>\n",
              "</table>\n",
              "<p>5000 rows × 6 columns</p>\n",
              "</div>"
            ],
            "text/plain": [
              "       Rank  Grade  Channel name  Video Uploads  Subscribers  Video views\n",
              "0     False  False         False          False        False        False\n",
              "1     False  False         False          False        False        False\n",
              "2     False  False         False          False        False        False\n",
              "3     False  False         False          False        False        False\n",
              "4     False  False         False          False        False        False\n",
              "...     ...    ...           ...            ...          ...          ...\n",
              "4995  False  False         False          False        False        False\n",
              "4996  False  False         False          False        False        False\n",
              "4997  False  False         False          False        False        False\n",
              "4998  False  False         False          False        False        False\n",
              "4999  False  False         False          False        False        False\n",
              "\n",
              "[5000 rows x 6 columns]"
            ]
          },
          "metadata": {
            "tags": []
          },
          "execution_count": 7
        }
      ]
    },
    {
      "cell_type": "markdown",
      "metadata": {
        "id": "TvT-2Q9ja2MR"
      },
      "source": [
        "From a previous checkpoint, we know that although each record is not entirely blank and flagged as False, we can have some missing values represented under something else, in our case, --"
      ]
    },
    {
      "cell_type": "code",
      "metadata": {
        "id": "T4tk3QV5bIfZ",
        "outputId": "979777d5-2403-492e-ad3b-edb1933a3bc1",
        "colab": {
          "base_uri": "https://localhost:8080/",
          "height": 163
        }
      },
      "source": [
        "# Let's look at unique values for each column:\n",
        "\n",
        "for column_name in youtube_df.columns:\n",
        "  print(\"Unique values in column {} are: {}\".format(column_name, youtube_df[column_name].unique()))"
      ],
      "execution_count": 8,
      "outputs": [
        {
          "output_type": "stream",
          "text": [
            "Unique values in column Rank are: ['1st' '2nd' '3rd' ... '4,998th' '4,999th' '5,000th']\n",
            "Unique values in column Grade are: ['A++ ' 'A+ ' 'A ' '\\xa0 ' 'A- ' 'B+ ']\n",
            "Unique values in column Channel name are: ['Zee TV' 'T-Series' 'Cocomelon - Nursery Rhymes' ... 'Mastersaint'\n",
            " 'Bruce McIntosh' 'SehatAQUA']\n",
            "Unique values in column Video Uploads are: ['82757' '12661' '373' ... '1735' '706' '3475']\n",
            "Unique values in column Subscribers are: ['18752951' '61196302' '19238251' ... '3265735' '32990' '21172']\n",
            "Unique values in column Video views are: [20869786591 47548839843  9793305082 ...   311758426    14563764\n",
            "    73312511]\n"
          ],
          "name": "stdout"
        }
      ]
    },
    {
      "cell_type": "markdown",
      "metadata": {
        "id": "pYtBX7DqbXoO"
      },
      "source": [
        "Looking for missing value alternative is like looking for a needle in a haystack.\n",
        "\n",
        "We can hack a solution to utilize data types to our advantage.\n",
        "\n",
        "We'll first convert *Video Uploads* and *Subscribers* to numeric. "
      ]
    },
    {
      "cell_type": "code",
      "metadata": {
        "id": "uTI_ifBbbhT4",
        "outputId": "97e1a6e3-6107-43d6-edc9-adc6e1ab3eca",
        "colab": {
          "base_uri": "https://localhost:8080/",
          "height": 1000
        }
      },
      "source": [
        "# print all values that cannot be converted to float\n",
        "for column_name in [\"Video Uploads\", \"Subscribers\"]:\n",
        "  print(\"These are the problematic values for the variable: {}\".format(column_name))\n",
        "  for value in youtube_df[column_name]:\n",
        "    try:\n",
        "      float(value)\n",
        "    except:\n",
        "      print(value)"
      ],
      "execution_count": 9,
      "outputs": [
        {
          "output_type": "stream",
          "text": [
            "These are the problematic values for the variable: Video Uploads\n",
            "--\n",
            "--\n",
            "--\n",
            "--\n",
            "--\n",
            "--\n",
            "These are the problematic values for the variable: Subscribers\n",
            "-- \n",
            "-- \n",
            "-- \n",
            "-- \n",
            "-- \n",
            "-- \n",
            "-- \n",
            "-- \n",
            "-- \n",
            "-- \n",
            "-- \n",
            "-- \n",
            "-- \n",
            "-- \n",
            "-- \n",
            "-- \n",
            "-- \n",
            "-- \n",
            "-- \n",
            "-- \n",
            "-- \n",
            "-- \n",
            "-- \n",
            "-- \n",
            "-- \n",
            "-- \n",
            "-- \n",
            "-- \n",
            "-- \n",
            "-- \n",
            "-- \n",
            "-- \n",
            "-- \n",
            "-- \n",
            "-- \n",
            "-- \n",
            "-- \n",
            "-- \n",
            "-- \n",
            "-- \n",
            "-- \n",
            "-- \n",
            "-- \n",
            "-- \n",
            "-- \n",
            "-- \n",
            "-- \n",
            "-- \n",
            "-- \n",
            "-- \n",
            "-- \n",
            "-- \n",
            "-- \n",
            "-- \n",
            "-- \n",
            "-- \n",
            "-- \n",
            "-- \n",
            "-- \n",
            "-- \n",
            "-- \n",
            "-- \n",
            "-- \n",
            "-- \n",
            "-- \n",
            "-- \n",
            "-- \n",
            "-- \n",
            "-- \n",
            "-- \n",
            "-- \n",
            "-- \n",
            "-- \n",
            "-- \n",
            "-- \n",
            "-- \n",
            "-- \n",
            "-- \n",
            "-- \n",
            "-- \n",
            "-- \n",
            "-- \n",
            "-- \n",
            "-- \n",
            "-- \n",
            "-- \n",
            "-- \n",
            "-- \n",
            "-- \n",
            "-- \n",
            "-- \n",
            "-- \n",
            "-- \n",
            "-- \n",
            "-- \n",
            "-- \n",
            "-- \n",
            "-- \n",
            "-- \n",
            "-- \n",
            "-- \n",
            "-- \n",
            "-- \n",
            "-- \n",
            "-- \n",
            "-- \n",
            "-- \n",
            "-- \n",
            "-- \n",
            "-- \n",
            "-- \n",
            "-- \n",
            "-- \n",
            "-- \n",
            "-- \n",
            "-- \n",
            "-- \n",
            "-- \n",
            "-- \n",
            "-- \n",
            "-- \n",
            "-- \n",
            "-- \n",
            "-- \n",
            "-- \n",
            "-- \n",
            "-- \n",
            "-- \n",
            "-- \n",
            "-- \n",
            "-- \n",
            "-- \n",
            "-- \n",
            "-- \n",
            "-- \n",
            "-- \n",
            "-- \n",
            "-- \n",
            "-- \n",
            "-- \n",
            "-- \n",
            "-- \n",
            "-- \n",
            "-- \n",
            "-- \n",
            "-- \n",
            "-- \n",
            "-- \n",
            "-- \n",
            "-- \n",
            "-- \n",
            "-- \n",
            "-- \n",
            "-- \n",
            "-- \n",
            "-- \n",
            "-- \n",
            "-- \n",
            "-- \n",
            "-- \n",
            "-- \n",
            "-- \n",
            "-- \n",
            "-- \n",
            "-- \n",
            "-- \n",
            "-- \n",
            "-- \n",
            "-- \n",
            "-- \n",
            "-- \n",
            "-- \n",
            "-- \n",
            "-- \n",
            "-- \n",
            "-- \n",
            "-- \n",
            "-- \n",
            "-- \n",
            "-- \n",
            "-- \n",
            "-- \n",
            "-- \n",
            "-- \n",
            "-- \n",
            "-- \n",
            "-- \n",
            "-- \n",
            "-- \n",
            "-- \n",
            "-- \n",
            "-- \n",
            "-- \n",
            "-- \n",
            "-- \n",
            "-- \n",
            "-- \n",
            "-- \n",
            "-- \n",
            "-- \n",
            "-- \n",
            "-- \n",
            "-- \n",
            "-- \n",
            "-- \n",
            "-- \n",
            "-- \n",
            "-- \n",
            "-- \n",
            "-- \n",
            "-- \n",
            "-- \n",
            "-- \n",
            "-- \n",
            "-- \n",
            "-- \n",
            "-- \n",
            "-- \n",
            "-- \n",
            "-- \n",
            "-- \n",
            "-- \n",
            "-- \n",
            "-- \n",
            "-- \n",
            "-- \n",
            "-- \n",
            "-- \n",
            "-- \n",
            "-- \n",
            "-- \n",
            "-- \n",
            "-- \n",
            "-- \n",
            "-- \n",
            "-- \n",
            "-- \n",
            "-- \n",
            "-- \n",
            "-- \n",
            "-- \n",
            "-- \n",
            "-- \n",
            "-- \n",
            "-- \n",
            "-- \n",
            "-- \n",
            "-- \n",
            "-- \n",
            "-- \n",
            "-- \n",
            "-- \n",
            "-- \n",
            "-- \n",
            "-- \n",
            "-- \n",
            "-- \n",
            "-- \n",
            "-- \n",
            "-- \n",
            "-- \n",
            "-- \n",
            "-- \n",
            "-- \n",
            "-- \n",
            "-- \n",
            "-- \n",
            "-- \n",
            "-- \n",
            "-- \n",
            "-- \n",
            "-- \n",
            "-- \n",
            "-- \n",
            "-- \n",
            "-- \n",
            "-- \n",
            "-- \n",
            "-- \n",
            "-- \n",
            "-- \n",
            "-- \n",
            "-- \n",
            "-- \n",
            "-- \n",
            "-- \n",
            "-- \n",
            "-- \n",
            "-- \n",
            "-- \n",
            "-- \n",
            "-- \n",
            "-- \n",
            "-- \n",
            "-- \n",
            "-- \n",
            "-- \n",
            "-- \n",
            "-- \n",
            "-- \n",
            "-- \n",
            "-- \n",
            "-- \n",
            "-- \n",
            "-- \n",
            "-- \n",
            "-- \n",
            "-- \n",
            "-- \n",
            "-- \n",
            "-- \n",
            "-- \n",
            "-- \n",
            "-- \n",
            "-- \n",
            "-- \n",
            "-- \n",
            "-- \n",
            "-- \n",
            "-- \n",
            "-- \n",
            "-- \n",
            "-- \n",
            "-- \n",
            "-- \n",
            "-- \n",
            "-- \n",
            "-- \n",
            "-- \n",
            "-- \n",
            "-- \n",
            "-- \n",
            "-- \n",
            "-- \n",
            "-- \n",
            "-- \n",
            "-- \n",
            "-- \n",
            "-- \n",
            "-- \n",
            "-- \n",
            "-- \n",
            "-- \n",
            "-- \n",
            "-- \n",
            "-- \n",
            "-- \n",
            "-- \n",
            "-- \n",
            "-- \n",
            "-- \n",
            "-- \n",
            "-- \n",
            "-- \n",
            "-- \n",
            "-- \n",
            "-- \n",
            "-- \n",
            "-- \n",
            "-- \n",
            "-- \n",
            "-- \n",
            "-- \n",
            "-- \n",
            "-- \n",
            "-- \n",
            "-- \n",
            "-- \n",
            "-- \n",
            "-- \n",
            "-- \n",
            "-- \n",
            "-- \n",
            "-- \n",
            "-- \n",
            "-- \n",
            "-- \n",
            "-- \n",
            "-- \n",
            "-- \n",
            "-- \n",
            "-- \n",
            "-- \n",
            "-- \n",
            "-- \n",
            "-- \n",
            "-- \n"
          ],
          "name": "stdout"
        }
      ]
    },
    {
      "cell_type": "code",
      "metadata": {
        "id": "2UNq44x8cJw6"
      },
      "source": [
        "# Let's convert these records into empty strings then convert variables to float\n",
        "youtube_df[\"Video Uploads\"] = youtube_df[\"Video Uploads\"].apply(str.strip).replace(\"--\", np.nan)\n",
        "youtube_df[\"Video Uploads\"] = pd.to_numeric(youtube_df[\"Video Uploads\"], downcast=\"float\")\n",
        "\n",
        "youtube_df[\"Subscribers\"] = youtube_df[\"Subscribers\"].apply(str.strip).replace(\"--\", np.nan)\n",
        "youtube_df[\"Subscribers\"] = pd.to_numeric(youtube_df[\"Subscribers\"], downcast=\"float\")"
      ],
      "execution_count": 15,
      "outputs": []
    },
    {
      "cell_type": "code",
      "metadata": {
        "id": "V_uyfn1sc7-R",
        "outputId": "ad657667-7d0d-437f-b092-a46e17a5cc6f",
        "colab": {
          "base_uri": "https://localhost:8080/",
          "height": 254
        }
      },
      "source": [
        "# Check that Video Uploads and Subscribers columns are type float\n",
        "youtube_df.info()"
      ],
      "execution_count": 16,
      "outputs": [
        {
          "output_type": "stream",
          "text": [
            "<class 'pandas.core.frame.DataFrame'>\n",
            "RangeIndex: 5000 entries, 0 to 4999\n",
            "Data columns (total 6 columns):\n",
            " #   Column         Non-Null Count  Dtype  \n",
            "---  ------         --------------  -----  \n",
            " 0   Rank           5000 non-null   object \n",
            " 1   Grade          5000 non-null   object \n",
            " 2   Channel name   5000 non-null   object \n",
            " 3   Video Uploads  4994 non-null   float32\n",
            " 4   Subscribers    4613 non-null   float32\n",
            " 5   Video views    5000 non-null   int64  \n",
            "dtypes: float32(2), int64(1), object(3)\n",
            "memory usage: 195.4+ KB\n"
          ],
          "name": "stdout"
        }
      ]
    },
    {
      "cell_type": "code",
      "metadata": {
        "id": "Fomc-uB6dDlb",
        "outputId": "db50e09c-391f-4a28-d9c9-191734f09f84",
        "colab": {
          "base_uri": "https://localhost:8080/",
          "height": 407
        }
      },
      "source": [
        "youtube_df.isnull()"
      ],
      "execution_count": 17,
      "outputs": [
        {
          "output_type": "execute_result",
          "data": {
            "text/html": [
              "<div>\n",
              "<style scoped>\n",
              "    .dataframe tbody tr th:only-of-type {\n",
              "        vertical-align: middle;\n",
              "    }\n",
              "\n",
              "    .dataframe tbody tr th {\n",
              "        vertical-align: top;\n",
              "    }\n",
              "\n",
              "    .dataframe thead th {\n",
              "        text-align: right;\n",
              "    }\n",
              "</style>\n",
              "<table border=\"1\" class=\"dataframe\">\n",
              "  <thead>\n",
              "    <tr style=\"text-align: right;\">\n",
              "      <th></th>\n",
              "      <th>Rank</th>\n",
              "      <th>Grade</th>\n",
              "      <th>Channel name</th>\n",
              "      <th>Video Uploads</th>\n",
              "      <th>Subscribers</th>\n",
              "      <th>Video views</th>\n",
              "    </tr>\n",
              "  </thead>\n",
              "  <tbody>\n",
              "    <tr>\n",
              "      <th>0</th>\n",
              "      <td>False</td>\n",
              "      <td>False</td>\n",
              "      <td>False</td>\n",
              "      <td>False</td>\n",
              "      <td>False</td>\n",
              "      <td>False</td>\n",
              "    </tr>\n",
              "    <tr>\n",
              "      <th>1</th>\n",
              "      <td>False</td>\n",
              "      <td>False</td>\n",
              "      <td>False</td>\n",
              "      <td>False</td>\n",
              "      <td>False</td>\n",
              "      <td>False</td>\n",
              "    </tr>\n",
              "    <tr>\n",
              "      <th>2</th>\n",
              "      <td>False</td>\n",
              "      <td>False</td>\n",
              "      <td>False</td>\n",
              "      <td>False</td>\n",
              "      <td>False</td>\n",
              "      <td>False</td>\n",
              "    </tr>\n",
              "    <tr>\n",
              "      <th>3</th>\n",
              "      <td>False</td>\n",
              "      <td>False</td>\n",
              "      <td>False</td>\n",
              "      <td>False</td>\n",
              "      <td>False</td>\n",
              "      <td>False</td>\n",
              "    </tr>\n",
              "    <tr>\n",
              "      <th>4</th>\n",
              "      <td>False</td>\n",
              "      <td>False</td>\n",
              "      <td>False</td>\n",
              "      <td>False</td>\n",
              "      <td>False</td>\n",
              "      <td>False</td>\n",
              "    </tr>\n",
              "    <tr>\n",
              "      <th>...</th>\n",
              "      <td>...</td>\n",
              "      <td>...</td>\n",
              "      <td>...</td>\n",
              "      <td>...</td>\n",
              "      <td>...</td>\n",
              "      <td>...</td>\n",
              "    </tr>\n",
              "    <tr>\n",
              "      <th>4995</th>\n",
              "      <td>False</td>\n",
              "      <td>False</td>\n",
              "      <td>False</td>\n",
              "      <td>False</td>\n",
              "      <td>False</td>\n",
              "      <td>False</td>\n",
              "    </tr>\n",
              "    <tr>\n",
              "      <th>4996</th>\n",
              "      <td>False</td>\n",
              "      <td>False</td>\n",
              "      <td>False</td>\n",
              "      <td>False</td>\n",
              "      <td>False</td>\n",
              "      <td>False</td>\n",
              "    </tr>\n",
              "    <tr>\n",
              "      <th>4997</th>\n",
              "      <td>False</td>\n",
              "      <td>False</td>\n",
              "      <td>False</td>\n",
              "      <td>False</td>\n",
              "      <td>False</td>\n",
              "      <td>False</td>\n",
              "    </tr>\n",
              "    <tr>\n",
              "      <th>4998</th>\n",
              "      <td>False</td>\n",
              "      <td>False</td>\n",
              "      <td>False</td>\n",
              "      <td>False</td>\n",
              "      <td>False</td>\n",
              "      <td>False</td>\n",
              "    </tr>\n",
              "    <tr>\n",
              "      <th>4999</th>\n",
              "      <td>False</td>\n",
              "      <td>False</td>\n",
              "      <td>False</td>\n",
              "      <td>False</td>\n",
              "      <td>False</td>\n",
              "      <td>False</td>\n",
              "    </tr>\n",
              "  </tbody>\n",
              "</table>\n",
              "<p>5000 rows × 6 columns</p>\n",
              "</div>"
            ],
            "text/plain": [
              "       Rank  Grade  Channel name  Video Uploads  Subscribers  Video views\n",
              "0     False  False         False          False        False        False\n",
              "1     False  False         False          False        False        False\n",
              "2     False  False         False          False        False        False\n",
              "3     False  False         False          False        False        False\n",
              "4     False  False         False          False        False        False\n",
              "...     ...    ...           ...            ...          ...          ...\n",
              "4995  False  False         False          False        False        False\n",
              "4996  False  False         False          False        False        False\n",
              "4997  False  False         False          False        False        False\n",
              "4998  False  False         False          False        False        False\n",
              "4999  False  False         False          False        False        False\n",
              "\n",
              "[5000 rows x 6 columns]"
            ]
          },
          "metadata": {
            "tags": []
          },
          "execution_count": 17
        }
      ]
    },
    {
      "cell_type": "markdown",
      "metadata": {
        "id": "BJOx5zqudLWU"
      },
      "source": [
        "Let's calculate the percentage of the missing values in all columns."
      ]
    },
    {
      "cell_type": "code",
      "metadata": {
        "id": "wDBHyIBMdPeX",
        "outputId": "f2d45a32-e8fc-4c05-eb1f-572214663544",
        "colab": {
          "base_uri": "https://localhost:8080/",
          "height": 145
        }
      },
      "source": [
        "youtube_df.isnull().sum()*100/youtube_df.isnull().count()"
      ],
      "execution_count": 18,
      "outputs": [
        {
          "output_type": "execute_result",
          "data": {
            "text/plain": [
              "Rank             0.00\n",
              "Grade            0.00\n",
              "Channel name     0.00\n",
              "Video Uploads    0.12\n",
              "Subscribers      7.74\n",
              "Video views      0.00\n",
              "dtype: float64"
            ]
          },
          "metadata": {
            "tags": []
          },
          "execution_count": 18
        }
      ]
    },
    {
      "cell_type": "markdown",
      "metadata": {
        "id": "DFrbwEt3daLr"
      },
      "source": [
        "We identified and fixed the missing values that lurked in Video Uploads and Subscribers even though our initial familiariziation with the data did not detect any null values.\n",
        "\n",
        "Let's print the frequencies of each value for our columns"
      ]
    },
    {
      "cell_type": "code",
      "metadata": {
        "id": "oOqcg7Pydl67",
        "outputId": "f482d690-f018-48e5-f8c0-0564825e7593",
        "colab": {
          "base_uri": "https://localhost:8080/",
          "height": 145
        }
      },
      "source": [
        "youtube_df.Grade.value_counts()"
      ],
      "execution_count": 20,
      "outputs": [
        {
          "output_type": "execute_result",
          "data": {
            "text/plain": [
              "B+      2956\n",
              "A-      1024\n",
              "A        963\n",
              "A+        41\n",
              "A++       10\n",
              "           6\n",
              "Name: Grade, dtype: int64"
            ]
          },
          "metadata": {
            "tags": []
          },
          "execution_count": 20
        }
      ]
    },
    {
      "cell_type": "markdown",
      "metadata": {
        "id": "IodkPtSgd65o"
      },
      "source": [
        "It would appear we have empty string values that include trailing spaces. \n",
        "\n",
        "Let's convert these records to null values"
      ]
    },
    {
      "cell_type": "code",
      "metadata": {
        "id": "qKjVTPAReLuD",
        "outputId": "08b63aab-b20d-4308-bf31-b02075ea989d",
        "colab": {
          "base_uri": "https://localhost:8080/",
          "height": 35
        }
      },
      "source": [
        "youtube_df.Grade.unique()"
      ],
      "execution_count": 22,
      "outputs": [
        {
          "output_type": "execute_result",
          "data": {
            "text/plain": [
              "array(['A++ ', 'A+ ', 'A ', '\\xa0 ', 'A- ', 'B+ '], dtype=object)"
            ]
          },
          "metadata": {
            "tags": []
          },
          "execution_count": 22
        }
      ]
    },
    {
      "cell_type": "code",
      "metadata": {
        "id": "OpFFrUGEdwmj",
        "outputId": "e86e865a-45b4-41e3-cae1-e06ed8fca106",
        "colab": {
          "base_uri": "https://localhost:8080/",
          "height": 35
        }
      },
      "source": [
        "youtube_df.Grade = youtube_df.Grade.apply(str.strip).replace(\"\", np.nan)\n",
        "\n",
        "youtube_df.Grade.unique()"
      ],
      "execution_count": 23,
      "outputs": [
        {
          "output_type": "execute_result",
          "data": {
            "text/plain": [
              "array(['A++', 'A+', 'A', nan, 'A-', 'B+'], dtype=object)"
            ]
          },
          "metadata": {
            "tags": []
          },
          "execution_count": 23
        }
      ]
    },
    {
      "cell_type": "markdown",
      "metadata": {
        "id": "Y00Ga5wCeega"
      },
      "source": [
        ">__Approaches to handling missing values__\n",
        "* disregard rows with missing values - tossing affected rows should be avoided unless we believe we're not nosing significant information in records we'd be discarding.\n",
        "* filling missing values with unharmful values - preferred method, more common approach"
      ]
    },
    {
      "cell_type": "markdown",
      "metadata": {
        "id": "CdOwV8keii9A"
      },
      "source": [
        "__Filling missing values in a continuous variable__\n",
        "\n",
        "Continuous variables can take an unlimited number of different values. \n",
        "\n",
        "Common filling approaches:\n",
        "* mean, median, and mode (also known as __imputation__)\n",
        "* interpolation - populate missing values using representative values from similar rows; popular approach for time series data\n",
        " * linear\n",
        " * quadratic\n",
        " * cubic\n",
        "\n"
      ]
    },
    {
      "cell_type": "code",
      "metadata": {
        "id": "3SPqxHMD8Vtr",
        "outputId": "cd894deb-eed1-4207-e6b3-f1cadfa28fdf",
        "colab": {
          "base_uri": "https://localhost:8080/",
          "height": 145
        }
      },
      "source": [
        "youtube_df[\"Video Uploads\"].fillna(youtube_df[\"Video Uploads\"].mean(), inplace=True)\n",
        "youtube_df[\"Subscribers\"].fillna(youtube_df[\"Subscribers\"].mean(), inplace=True)\n",
        "\n",
        "youtube_df.isnull().sum()*100/youtube_df.count()"
      ],
      "execution_count": 24,
      "outputs": [
        {
          "output_type": "execute_result",
          "data": {
            "text/plain": [
              "Rank             0.000000\n",
              "Grade            0.120144\n",
              "Channel name     0.000000\n",
              "Video Uploads    0.000000\n",
              "Subscribers      0.000000\n",
              "Video views      0.000000\n",
              "dtype: float64"
            ]
          },
          "metadata": {
            "tags": []
          },
          "execution_count": 24
        }
      ]
    },
    {
      "cell_type": "markdown",
      "metadata": {
        "id": "l-JfEu1Z_wx3"
      },
      "source": [
        "__Missing values in categorical variable__\n",
        "\n",
        "1. create new category for missing values like other or unknown\n",
        "2. try to find a suitable category among the existing ones"
      ]
    },
    {
      "cell_type": "code",
      "metadata": {
        "id": "u8t5ZuOlANAp",
        "outputId": "23c13728-bfc1-41d3-cf28-5338eab4d19c",
        "colab": {
          "base_uri": "https://localhost:8080/",
          "height": 35
        }
      },
      "source": [
        "# fill in missing values in Category with the the value of the next highest-ranked channel's category\n",
        "\n",
        "grade_list = youtube_df.Grade\n",
        "\n",
        "for i in range(0, len(youtube_df.Grade)):\n",
        "    if pd.isnull(youtube_df.Grade[i]):\n",
        "        youtube_df.Grade[i] = youtube_df.Grade[i-1]\n",
        "        \n",
        "youtube_df[\"Grade\"].unique()"
      ],
      "execution_count": 25,
      "outputs": [
        {
          "output_type": "execute_result",
          "data": {
            "text/plain": [
              "array(['A++', 'A+', 'A', 'A-', 'B+'], dtype=object)"
            ]
          },
          "metadata": {
            "tags": []
          },
          "execution_count": 25
        }
      ]
    },
    {
      "cell_type": "code",
      "metadata": {
        "id": "1m7QFdtgAQD1",
        "outputId": "effd1246-09cc-440a-e245-cd188443ca58",
        "colab": {
          "base_uri": "https://localhost:8080/",
          "height": 145
        }
      },
      "source": [
        "youtube_df.isnull().sum()*100/youtube_df.count()"
      ],
      "execution_count": 26,
      "outputs": [
        {
          "output_type": "execute_result",
          "data": {
            "text/plain": [
              "Rank             0.0\n",
              "Grade            0.0\n",
              "Channel name     0.0\n",
              "Video Uploads    0.0\n",
              "Subscribers      0.0\n",
              "Video views      0.0\n",
              "dtype: float64"
            ]
          },
          "metadata": {
            "tags": []
          },
          "execution_count": 26
        }
      ]
    }
  ]
}